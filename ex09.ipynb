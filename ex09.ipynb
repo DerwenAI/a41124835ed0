{
 "cells": [
  {
   "cell_type": "markdown",
   "metadata": {},
   "source": [
    "The data file `terms.tsv` has 10K elements from a much larger file,\n",
    "with the keyphrases from 843 unique \"documents\" represented.\n",
    "Realistically, you want many more \"documents\" in a Word2Vec model\n",
    "before its results begin to make sense.\n",
    "\n",
    "This is enough to show how to call the functions from `gensim`."
   ]
  },
  {
   "cell_type": "code",
   "execution_count": null,
   "metadata": {
    "collapsed": true,
    "deletable": true,
    "editable": true
   },
   "outputs": [],
   "source": [
    "import csv\n",
    "import gensim\n",
    "import logging\n",
    "import sys\n",
    "\n",
    "model_file = \"model.dat\"\n",
    "term_path = \"terms.tsv\""
   ]
  },
  {
   "cell_type": "code",
   "execution_count": null,
   "metadata": {
    "collapsed": false,
    "deletable": true,
    "editable": true
   },
   "outputs": [],
   "source": [
    "sentences = []\n",
    "sent = []\n",
    "last_chap = None\n",
    "\n",
    "with open(term_path) as f:\n",
    "    for term, chap, rank in csv.reader(f, delimiter=\"\\t\"):\n",
    "        rank = float(rank)\n",
    "\n",
    "        if chap != last_chap:\n",
    "            if last_chap:\n",
    "                sentences.append(sent)\n",
    "                sent = []\n",
    "\n",
    "            last_chap = chap\n",
    "\n",
    "        sent.append(term)\n",
    "\n",
    "    # handle the dangling last element\n",
    "    sentences.append(sent)\n",
    "\n",
    "print(len(sentences))"
   ]
  },
  {
   "cell_type": "code",
   "execution_count": null,
   "metadata": {
    "collapsed": true,
    "deletable": true,
    "editable": true
   },
   "outputs": [],
   "source": [
    "# set up logging, train word2vec on the sentences\n",
    "FORMAT = \"%(asctime)s : %(levelname)s : %(message)\"\n",
    "logging.basicConfig(format=FORMAT, level=logging.ERROR)\n",
    "\n",
    "# train a model, then save it\n",
    "model = gensim.models.Word2Vec(sentences, min_count=1)\n",
    "model.save(model_file)"
   ]
  },
  {
   "cell_type": "code",
   "execution_count": null,
   "metadata": {
    "collapsed": true,
    "deletable": true,
    "editable": true
   },
   "outputs": [],
   "source": [
    "def get_synset (model, query, topn=10):\n",
    "    try:\n",
    "        return sorted(model.most_similar(positive=[query], topn=topn), key=lambda x: x[1], reverse=True)\n",
    "    except KeyError:\n",
    "        return []"
   ]
  },
  {
   "cell_type": "code",
   "execution_count": null,
   "metadata": {
    "collapsed": false,
    "deletable": true,
    "editable": true
   },
   "outputs": [],
   "source": [
    "# if you need to load a trained model:\n",
    "# model = gensim.models.Word2Vec.load(MODEL_FILE)\n",
    "\n",
    "# query the model through a mini REPL\n",
    "while True:\n",
    "    try:\n",
    "        query = input(\"\\nquery? \")\n",
    "        synset = get_synset(model, query, topn=10)\n",
    "        print(\"most similar to\", query, \":\", synset)\n",
    "    except KeyError:\n",
    "        print(\"not found\")"
   ]
  }
 ],
 "metadata": {
  "kernelspec": {
   "display_name": "Python 3",
   "language": "python",
   "name": "python3"
  },
  "language_info": {
   "codemirror_mode": {
    "name": "ipython",
    "version": 3
   },
   "file_extension": ".py",
   "mimetype": "text/x-python",
   "name": "python",
   "nbconvert_exporter": "python",
   "pygments_lexer": "ipython3",
   "version": "3.5.2"
  }
 },
 "nbformat": 4,
 "nbformat_minor": 0
}
