{
 "cells": [
  {
   "cell_type": "markdown",
   "metadata": {
    "deletable": true,
    "editable": true
   },
   "source": [
    "# Exercise 08: semantic similarity"
   ]
  },
  {
   "cell_type": "markdown",
   "metadata": {
    "deletable": true,
    "editable": true
   },
   "source": [
    "First, let's create a function to calculate a *MinHash*:"
   ]
  },
  {
   "cell_type": "code",
   "execution_count": null,
   "metadata": {
    "collapsed": true,
    "deletable": true,
    "editable": true
   },
   "outputs": [],
   "source": [
    "from datasketch import MinHash\n",
    "\n",
    "def mh_digest (data):\n",
    "  mh = MinHash(num_perm=512)\n",
    "\n",
    "  for d in data:\n",
    "    mh.update(d.encode('utf8'))\n",
    "\n",
    "  return mh"
   ]
  },
  {
   "cell_type": "markdown",
   "metadata": {
    "deletable": true,
    "editable": true
   },
   "source": [
    "Then we'll iterate through each parsed document, adding the keywords to the MinHash:"
   ]
  },
  {
   "cell_type": "code",
   "execution_count": null,
   "metadata": {
    "collapsed": false,
    "deletable": true,
    "editable": true
   },
   "outputs": [],
   "source": [
    "import pynlp\n",
    "\n",
    "files = [\"a4.json\", \"a3.json\", \"a2.json\", \"a1.json\"]\n",
    "\n",
    "stopwords = pynlp.load_stopwords(\"stop.txt\")\n",
    "files_set = {}\n",
    "files_mh = {}\n",
    "\n",
    "for json_file in files:\n",
    "  keywords = set([])\n",
    "\n",
    "  for lex in pynlp.lex_iter(json_file):\n",
    "    if (lex.pos != \".\") and (lex.root not in stopwords):\n",
    "      keywords.add(lex.root)\n",
    "\n",
    "  files_set[json_file] = keywords\n",
    "  files_mh[json_file] = mh_digest(keywords)\n",
    "\n",
    "  print(json_file, keywords)"
   ]
  },
  {
   "cell_type": "markdown",
   "metadata": {
    "deletable": true,
    "editable": true
   },
   "source": [
    "Let's compare the HTML documents, using a pairwise MinHash to approximate their Jaccard similarity:"
   ]
  },
  {
   "cell_type": "code",
   "execution_count": null,
   "metadata": {
    "collapsed": false,
    "deletable": true,
    "editable": true
   },
   "outputs": [],
   "source": [
    "import itertools\n",
    "\n",
    "sim = []\n",
    "\n",
    "for i1, i2 in itertools.combinations(range(len(files)), 2):\n",
    "  j = files_mh[files[i1]].jaccard(files_mh[files[i2]])\n",
    "  sim.append((j, files[i1], files[i2],))\n",
    "\n",
    "for jaccard, file1, file2 in sorted(sim, key=lambda x: x[0], reverse=True):\n",
    "  print(\"%0.4f\\t%s\\t%s\" % (jaccard, file1, file2))"
   ]
  },
  {
   "cell_type": "markdown",
   "metadata": {
    "deletable": true,
    "editable": true
   },
   "source": [
    "Note the top-ranked (\"most similar\") pair, where both `html/article2.html` and `html/article3.html` are about machine learning. Take a look at their overlapping keywords:"
   ]
  },
  {
   "cell_type": "code",
   "execution_count": null,
   "metadata": {
    "collapsed": false,
    "deletable": true,
    "editable": true
   },
   "outputs": [],
   "source": [
    "files_set[\"a3.json\"] & files_set[\"a2.json\"]"
   ]
  }
 ],
 "metadata": {
  "kernelspec": {
   "display_name": "Python 3",
   "language": "python",
   "name": "python3"
  },
  "language_info": {
   "codemirror_mode": {
    "name": "ipython",
    "version": 3
   },
   "file_extension": ".py",
   "mimetype": "text/x-python",
   "name": "python",
   "nbconvert_exporter": "python",
   "pygments_lexer": "ipython3",
   "version": "3.5.2"
  }
 },
 "nbformat": 4,
 "nbformat_minor": 0
}
